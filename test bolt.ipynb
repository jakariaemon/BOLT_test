{
 "cells": [
  {
   "cell_type": "code",
   "execution_count": 2,
   "id": "7bf2de88",
   "metadata": {},
   "outputs": [
    {
     "name": "stdout",
     "output_type": "stream",
     "text": [
      "dot product correlation: 0.7248393940850015 +/- 0.04847702172219376\n",
      "909824\n",
      "3554\n",
      "Numpy / BLAS time, Bolt time: 5.449ms, 0.450ms\n"
     ]
    },
    {
     "name": "stderr",
     "output_type": "stream",
     "text": [
      "/home/emon/anaconda3/lib/python3.9/site-packages/sklearn/cluster/_kmeans.py:1745: RuntimeWarning: Explicit initial center position passed: performing only one init in MiniBatchKMeans instead of n_init=3.\n",
      "  super()._check_params(X)\n",
      "/home/emon/anaconda3/lib/python3.9/site-packages/sklearn/cluster/_kmeans.py:1745: RuntimeWarning: Explicit initial center position passed: performing only one init in MiniBatchKMeans instead of n_init=3.\n",
      "  super()._check_params(X)\n",
      "/home/emon/anaconda3/lib/python3.9/site-packages/sklearn/cluster/_kmeans.py:1745: RuntimeWarning: Explicit initial center position passed: performing only one init in MiniBatchKMeans instead of n_init=3.\n",
      "  super()._check_params(X)\n",
      "/home/emon/anaconda3/lib/python3.9/site-packages/sklearn/cluster/_kmeans.py:1745: RuntimeWarning: Explicit initial center position passed: performing only one init in MiniBatchKMeans instead of n_init=3.\n",
      "  super()._check_params(X)\n"
     ]
    }
   ],
   "source": [
    "import bolt\n",
    "import numpy as np\n",
    "from scipy.stats import pearsonr as corr\n",
    "from sklearn.datasets import load_digits\n",
    "import timeit\n",
    "\n",
    "# for simplicity, use the sklearn digits dataset; we'll split\n",
    "# it into a matrix X and a set of queries Q\n",
    "X, _ = load_digits(return_X_y=True)\n",
    "nqueries = 20\n",
    "X, Q = X[:-nqueries], X[-nqueries:]\n",
    "\n",
    "enc = bolt.Encoder(reduction='dot', accuracy='lowest') # can tweak acc vs speed\n",
    "enc.fit(X)\n",
    "\n",
    "dot_corrs = np.empty(nqueries)\n",
    "for i, q in enumerate(Q):\n",
    "    dots_true = np.dot(X, q)\n",
    "    dots_bolt = enc.transform(q)\n",
    "    dot_corrs[i] = corr(dots_true, dots_bolt)[0]\n",
    "\n",
    "# dot products closely preserved despite compression\n",
    "print(\"dot product correlation: {} +/- {}\".format(\n",
    "    np.mean(dot_corrs), np.std(dot_corrs)))  # > .97\n",
    "\n",
    "# massive space savings\n",
    "print(X.nbytes)  # 1777 rows * 64 cols * 8B = 909KB\n",
    "print(enc.nbytes)  # 1777 * 2B = 3.55KB\n",
    "\n",
    "# massive time savings (~10x here, but often >100x on larger\n",
    "# datasets with less Python overhead; see the paper)\n",
    "t_np = timeit.Timer(\n",
    "    lambda: [np.dot(X, q) for q in Q]).timeit(5)        # ~9ms\n",
    "t_bolt = timeit.Timer(\n",
    "    lambda: [enc.transform(q) for q in Q]).timeit(5)    # ~800us\n",
    "print (\"Numpy / BLAS time, Bolt time: {:.3f}ms, {:.3f}ms\".format(\n",
    "    t_np * 1000, t_bolt * 1000))\n",
    "\n",
    "# can get output without offset/scaling if needed\n",
    "dots_bolt = [enc.transform(q, unquantize=True) for q in Q]"
   ]
  },
  {
   "cell_type": "code",
   "execution_count": null,
   "id": "cb324814",
   "metadata": {},
   "outputs": [],
   "source": []
  }
 ],
 "metadata": {
  "kernelspec": {
   "display_name": "Python 3 (ipykernel)",
   "language": "python",
   "name": "python3"
  },
  "language_info": {
   "codemirror_mode": {
    "name": "ipython",
    "version": 3
   },
   "file_extension": ".py",
   "mimetype": "text/x-python",
   "name": "python",
   "nbconvert_exporter": "python",
   "pygments_lexer": "ipython3",
   "version": "3.9.12"
  }
 },
 "nbformat": 4,
 "nbformat_minor": 5
}
